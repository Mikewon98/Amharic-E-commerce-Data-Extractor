{
 "cells": [
  {
   "cell_type": "markdown",
   "id": "44d031b7",
   "metadata": {},
   "source": [
    "✅ Summary of Your Evaluation Logs\n",
    "🧪 1. Model: rasyosef/bert-tiny-amharic\n",
    "Loss: 1.97\n",
    "\n",
    "F1-scores (entity-level):\n",
    "\n",
    "Product: 0.06\n",
    "\n",
    "PRICE: 0.01\n",
    "\n",
    "LOC: 0.00\n",
    "\n",
    "Speed: High (light model)\n",
    "\n",
    "Comments:\n",
    "\n",
    "Very low recall and precision.\n",
    "\n",
    "Good training speed, but not suitable due to poor extraction performance.\n",
    "\n"
   ]
  },
  {
   "cell_type": "markdown",
   "id": "f9607885",
   "metadata": {},
   "source": [
    "🧪 2. Model: xlm-roberta-base\n",
    "Loss: 1.23 (lower = better)\n",
    "\n",
    "F1-scores (entity-level):\n",
    "\n",
    "LOC: 0.11 (some learning)\n",
    "\n",
    "Product: 0.00\n",
    "\n",
    "PRICE: 0.00\n",
    "\n",
    "Speed: Slower (larger model)\n",
    "\n",
    "Comments:\n",
    "\n",
    "Shows better recall than bert-tiny.\n",
    "\n",
    "Still struggles with most entity types.\n",
    "\n",
    "Slightly more robust and generalizable."
   ]
  },
  {
   "cell_type": "markdown",
   "id": "1f4be626",
   "metadata": {},
   "source": [
    "📊 Model Comparison Table\n",
    "Model\tF1 (Weighted Avg)\tLoss\tSpeed\tSize\t    Comment\n",
    "bert-tiny-amharic\t0.039\t1.97\t✅ Fast\t⚡ Tiny\t    Very low accuracy\n",
    "xlm-roberta-base\t0.056\t1.23\t❌ Slower 🧠 Large\tSlightly better, but poor Product/Price recall\n",
    "afro-xlmr-base (suggested)\tTBD\tTBD\tMedium\tMultilingual\tMight offer a middle-ground\n",
    "\n"
   ]
  }
 ],
 "metadata": {
  "language_info": {
   "name": "python"
  }
 },
 "nbformat": 4,
 "nbformat_minor": 5
}
